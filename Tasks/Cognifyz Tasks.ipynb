{
 "cells": [
  {
   "cell_type": "markdown",
   "id": "6d18a718",
   "metadata": {},
   "source": [
    "# TASK 1"
   ]
  },
  {
   "cell_type": "code",
   "execution_count": null,
   "id": "979e2bce",
   "metadata": {},
   "outputs": [],
   "source": [
    "import pandas as pd\n",
    "from sklearn.model_selection import train_test_split\n",
    "from sklearn.tree import DecisionTreeRegressor\n",
    "from sklearn.metrics import mean_squared_error,r2_score"
   ]
  },
  {
   "cell_type": "code",
   "execution_count": 2,
   "id": "b4154e17",
   "metadata": {},
   "outputs": [],
   "source": [
    "df=pd.read_csv(\"C:\\\\Users\\\\umair\\\\OneDrive\\\\Documents\\\\Dataset .csv\")"
   ]
  },
  {
   "cell_type": "code",
   "execution_count": 3,
   "id": "4d374cb4",
   "metadata": {},
   "outputs": [],
   "source": [
    "column_list = df.columns.tolist()"
   ]
  },
  {
   "cell_type": "code",
   "execution_count": 4,
   "id": "98e02ae5",
   "metadata": {},
   "outputs": [
    {
     "name": "stdout",
     "output_type": "stream",
     "text": [
      "Column in the dataset:\n",
      "['Restaurant ID', 'Restaurant Name', 'Country Code', 'City', 'Address', 'Locality', 'Locality Verbose', 'Longitude', 'Latitude', 'Cuisines', 'Average Cost for two', 'Currency', 'Has Table booking', 'Has Online delivery', 'Is delivering now', 'Switch to order menu', 'Price range', 'Aggregate rating', 'Rating color', 'Rating text', 'Votes']\n"
     ]
    }
   ],
   "source": [
    "print(\"Column in the dataset:\")\n",
    "print(column_list)"
   ]
  },
  {
   "cell_type": "code",
   "execution_count": 5,
   "id": "dcd3c49a",
   "metadata": {},
   "outputs": [
    {
     "name": "stdout",
     "output_type": "stream",
     "text": [
      "Restaurant ID             int64\n",
      "Restaurant Name          object\n",
      "Country Code              int64\n",
      "City                     object\n",
      "Address                  object\n",
      "Locality                 object\n",
      "Locality Verbose         object\n",
      "Longitude               float64\n",
      "Latitude                float64\n",
      "Cuisines                 object\n",
      "Average Cost for two      int64\n",
      "Currency                 object\n",
      "Has Table booking        object\n",
      "Has Online delivery      object\n",
      "Is delivering now        object\n",
      "Switch to order menu     object\n",
      "Price range               int64\n",
      "Aggregate rating        float64\n",
      "Rating color             object\n",
      "Rating text              object\n",
      "Votes                     int64\n",
      "dtype: object\n"
     ]
    }
   ],
   "source": [
    "print(df.dtypes)"
   ]
  },
  {
   "cell_type": "code",
   "execution_count": 6,
   "id": "9337464e",
   "metadata": {},
   "outputs": [],
   "source": [
    "X = df.drop(\"Aggregate rating\",axis=1)\n",
    "Y = df[\"Aggregate rating\"]"
   ]
  },
  {
   "cell_type": "code",
   "execution_count": 7,
   "id": "717cf4dc",
   "metadata": {},
   "outputs": [
    {
     "name": "stdout",
     "output_type": "stream",
     "text": [
      "Non-numeric columns Index(['Restaurant Name', 'City', 'Address', 'Locality', 'Locality Verbose',\n",
      "       'Cuisines', 'Currency', 'Has Table booking', 'Has Online delivery',\n",
      "       'Is delivering now', 'Switch to order menu', 'Rating color',\n",
      "       'Rating text'],\n",
      "      dtype='object')\n"
     ]
    }
   ],
   "source": [
    "non_numeric_columns = df.select_dtypes(exclude=['float64','int64']).columns\n",
    "print('Non-numeric columns',non_numeric_columns)"
   ]
  },
  {
   "cell_type": "code",
   "execution_count": 8,
   "id": "1c767fd8",
   "metadata": {},
   "outputs": [],
   "source": [
    "df=df.drop('Cuisines',axis=1)"
   ]
  },
  {
   "cell_type": "code",
   "execution_count": 9,
   "id": "59e257af",
   "metadata": {},
   "outputs": [],
   "source": [
    "X_encoded = pd.get_dummies(X,drop_first=True)"
   ]
  },
  {
   "cell_type": "code",
   "execution_count": 10,
   "id": "90ee2300",
   "metadata": {},
   "outputs": [],
   "source": [
    "X_train,X_test,Y_train,Y_test = train_test_split(X_encoded,Y,test_size=0.2,random_state=42)"
   ]
  },
  {
   "cell_type": "code",
   "execution_count": 11,
   "id": "e5b055de",
   "metadata": {},
   "outputs": [
    {
     "data": {
      "text/plain": [
       "DecisionTreeRegressor()"
      ]
     },
     "execution_count": 11,
     "metadata": {},
     "output_type": "execute_result"
    }
   ],
   "source": [
    "model= DecisionTreeRegressor()\n",
    "model.fit(X_train,Y_train)"
   ]
  },
  {
   "cell_type": "code",
   "execution_count": 12,
   "id": "7a77ee6f",
   "metadata": {},
   "outputs": [],
   "source": [
    "Y_pred = model.predict(X_test)"
   ]
  },
  {
   "cell_type": "code",
   "execution_count": 13,
   "id": "086841dc",
   "metadata": {},
   "outputs": [
    {
     "name": "stdout",
     "output_type": "stream",
     "text": [
      "Mean Squared Error (MSE): 0.04961276818419674\n",
      "R-squared (R2): 0.978202815245042\n"
     ]
    }
   ],
   "source": [
    "mse = mean_squared_error(Y_test,Y_pred)\n",
    "r2 = r2_score(Y_test,Y_pred)\n",
    "print(\"Mean Squared Error (MSE):\",mse)\n",
    "print(\"R-squared (R2):\",r2)"
   ]
  },
  {
   "cell_type": "code",
   "execution_count": 14,
   "id": "28e6bed0",
   "metadata": {},
   "outputs": [
    {
     "name": "stdout",
     "output_type": "stream",
     "text": [
      "\n",
      "Most Influential Features:\n",
      "                                                Feature    Importance\n",
      "20821                                Rating color_White  8.966539e-01\n",
      "20819                               Rating color_Orange  5.152611e-02\n",
      "20820                                  Rating color_Red  2.219755e-02\n",
      "20822                               Rating color_Yellow  1.308405e-02\n",
      "20818                                Rating color_Green  2.579984e-03\n",
      "...                                                 ...           ...\n",
      "19923                                 Cuisines_Gujarati -2.017661e-19\n",
      "497                       Restaurant Name_Augsburg Haus -2.017661e-19\n",
      "19825  Cuisines_Fast Food, Chinese, Mithai, Street Food -2.017661e-19\n",
      "18668             Locality Verbose_Sector 31, Faridabad -2.017661e-19\n",
      "8684   Address_2, Main Market, Malviya Nagar, New Delhi -3.026492e-19\n",
      "\n",
      "[20828 rows x 2 columns]\n"
     ]
    }
   ],
   "source": [
    "importance = model.feature_importances_\n",
    "feature_names = X_encoded.columns\n",
    "feature_importance_df=pd.DataFrame({'Feature':feature_names, 'Importance':importance})\n",
    "sorted_features = feature_importance_df.sort_values(by='Importance',ascending=False)\n",
    "print(\"\\nMost Influential Features:\")\n",
    "print(sorted_features)"
   ]
  },
  {
   "cell_type": "code",
   "execution_count": null,
   "id": "2665bca7",
   "metadata": {},
   "outputs": [],
   "source": []
  },
  {
   "cell_type": "markdown",
   "id": "326cde1c",
   "metadata": {},
   "source": [
    "# TASK 2"
   ]
  },
  {
   "cell_type": "code",
   "execution_count": 1,
   "id": "3e06d8c9",
   "metadata": {},
   "outputs": [],
   "source": [
    "import pandas as pd\n",
    "from sklearn.model_selection import train_test_split\n",
    "from sklearn.tree import DecisionTreeRegressor\n",
    "from sklearn.metrics import mean_squared_error,r2_score"
   ]
  },
  {
   "cell_type": "code",
   "execution_count": 2,
   "id": "79ba2628",
   "metadata": {},
   "outputs": [],
   "source": [
    "df = pd.read_csv(\"C:\\\\Users\\\\umair\\\\OneDrive\\\\Documents\\\\Dataset .csv\")"
   ]
  },
  {
   "cell_type": "code",
   "execution_count": 3,
   "id": "a900e8e9",
   "metadata": {},
   "outputs": [],
   "source": [
    "df['Cuisines']=df['Cuisines'].str.lower()"
   ]
  },
  {
   "cell_type": "code",
   "execution_count": 4,
   "id": "a550b44b",
   "metadata": {},
   "outputs": [],
   "source": [
    "sample_user_cuisine_preference = 'North Indian'\n",
    "sample_user_price_range_preference = 2.0 \n",
    "#Assuming 2.0 corresponds to moderate-priced restaurants"
   ]
  },
  {
   "cell_type": "code",
   "execution_count": 5,
   "id": "0e43cc77",
   "metadata": {},
   "outputs": [],
   "source": [
    "X = pd.get_dummies(df[\"Cuisines\"], drop_first=True)\n",
    "Y = df[\"Aggregate rating\"]"
   ]
  },
  {
   "cell_type": "code",
   "execution_count": 6,
   "id": "6fc72025",
   "metadata": {},
   "outputs": [],
   "source": [
    "X_train, X_test, Y_train, Y_test = train_test_split(X,Y,test_size=0.2, random_state=42)"
   ]
  },
  {
   "cell_type": "code",
   "execution_count": 7,
   "id": "308cc198",
   "metadata": {},
   "outputs": [
    {
     "data": {
      "text/plain": [
       "DecisionTreeRegressor()"
      ]
     },
     "execution_count": 7,
     "metadata": {},
     "output_type": "execute_result"
    }
   ],
   "source": [
    "model = DecisionTreeRegressor()\n",
    "model.fit(X_train,Y_train)"
   ]
  },
  {
   "cell_type": "code",
   "execution_count": 8,
   "id": "2cbbae63",
   "metadata": {},
   "outputs": [
    {
     "name": "stdout",
     "output_type": "stream",
     "text": [
      "User Preference:Cuisine=North Indian, Price Range=2.0\n",
      "Predicted Restaurant Rating:2.7636363636363632\n"
     ]
    }
   ],
   "source": [
    "sample_user_cuisine_encoded = pd.get_dummies([sample_user_cuisine_preference.lower()], prefix=\",prefix_sep=\").reindex(columns=X.columns,fill_value=0)\n",
    "predicted_rating = model.predict(sample_user_cuisine_encoded)\n",
    "print(f\"User Preference:Cuisine={sample_user_cuisine_preference}, Price Range={sample_user_price_range_preference}\")\n",
    "print(f\"Predicted Restaurant Rating:{predicted_rating[0]}\")"
   ]
  },
  {
   "cell_type": "code",
   "execution_count": 9,
   "id": "90764c04",
   "metadata": {},
   "outputs": [
    {
     "name": "stdout",
     "output_type": "stream",
     "text": [
      "\n",
      "Model Preference:\n",
      "Mean Squared Error(MSE): 1.9332763175551513\n",
      "R-squared(R2): 0.1506222567609634\n"
     ]
    }
   ],
   "source": [
    "Y_pred = model.predict(X_test)\n",
    "mse = mean_squared_error(Y_test,Y_pred)\n",
    "r2 = r2_score(Y_test,Y_pred)\n",
    "print(\"\\nModel Preference:\")\n",
    "print(\"Mean Squared Error(MSE):\",mse)\n",
    "print(\"R-squared(R2):\",r2)"
   ]
  },
  {
   "cell_type": "code",
   "execution_count": null,
   "id": "d7322712",
   "metadata": {},
   "outputs": [],
   "source": []
  },
  {
   "cell_type": "markdown",
   "id": "951c7fec",
   "metadata": {},
   "source": [
    "# TASK 3"
   ]
  },
  {
   "cell_type": "code",
   "execution_count": 10,
   "id": "337d5611",
   "metadata": {},
   "outputs": [],
   "source": [
    "import numpy as np\n",
    "from sklearn.model_selection import train_test_split\n",
    "from sklearn.linear_model import LogisticRegression\n",
    "from sklearn.metrics import accuracy_score, precision_score, recall_score, f1_score, confusion_matrix"
   ]
  },
  {
   "cell_type": "code",
   "execution_count": 11,
   "id": "4b0294e8",
   "metadata": {},
   "outputs": [],
   "source": [
    "np.random.seed(42)\n",
    "num_samples = 1000\n",
    "num_features = 5\n",
    "X = np.random.randn(num_samples,num_features)\n",
    "Y = np.random.randint(2,size=num_samples)"
   ]
  },
  {
   "cell_type": "code",
   "execution_count": 12,
   "id": "74f474ba",
   "metadata": {},
   "outputs": [],
   "source": [
    "X_train,X_test,Y_train,Y_test = train_test_split(X,Y,test_size=0.2,random_state=42)"
   ]
  },
  {
   "cell_type": "code",
   "execution_count": 13,
   "id": "35f90bca",
   "metadata": {},
   "outputs": [],
   "source": [
    "logistic_model = LogisticRegression()"
   ]
  },
  {
   "cell_type": "code",
   "execution_count": 14,
   "id": "807a6c17",
   "metadata": {},
   "outputs": [
    {
     "data": {
      "text/plain": [
       "LogisticRegression()"
      ]
     },
     "execution_count": 14,
     "metadata": {},
     "output_type": "execute_result"
    }
   ],
   "source": [
    "logistic_model.fit(X_train,Y_train)"
   ]
  },
  {
   "cell_type": "code",
   "execution_count": 15,
   "id": "69460de5",
   "metadata": {},
   "outputs": [],
   "source": [
    "Y_pred = logistic_model.predict(X_test)"
   ]
  },
  {
   "cell_type": "code",
   "execution_count": 16,
   "id": "32c4bfb0",
   "metadata": {},
   "outputs": [],
   "source": [
    "accuracy = accuracy_score(Y_test,Y_pred)\n",
    "precision = precision_score(Y_test,Y_pred,average='weighted')\n",
    "recall = recall_score(Y_test, Y_pred,average='weighted')\n",
    "f1 = f1_score(Y_test, Y_pred,average='weighted')\n",
    "confusion = confusion_matrix(Y_test,Y_pred)"
   ]
  },
  {
   "cell_type": "code",
   "execution_count": 17,
   "id": "f494581d",
   "metadata": {},
   "outputs": [
    {
     "name": "stdout",
     "output_type": "stream",
     "text": [
      "Model Performance\n",
      "Accuracy: 0.48\n",
      "Precision: 0.47874188311688315\n",
      "Recall: 0.48\n",
      "F1 Score: 0.47817103808662437\n",
      "Confusion Matrix:\n",
      " [[41 57]\n",
      " [47 55]]\n"
     ]
    }
   ],
   "source": [
    "print(\"Model Performance\")\n",
    "print(\"Accuracy:\",accuracy)\n",
    "print(\"Precision:\",precision)\n",
    "print(\"Recall:\",recall)\n",
    "print(\"F1 Score:\",f1)\n",
    "print(\"Confusion Matrix:\\n\",confusion)"
   ]
  },
  {
   "cell_type": "code",
   "execution_count": null,
   "id": "6da1878c",
   "metadata": {},
   "outputs": [],
   "source": []
  }
 ],
 "metadata": {
  "kernelspec": {
   "display_name": "Python 3 (ipykernel)",
   "language": "python",
   "name": "python3"
  },
  "language_info": {
   "codemirror_mode": {
    "name": "ipython",
    "version": 3
   },
   "file_extension": ".py",
   "mimetype": "text/x-python",
   "name": "python",
   "nbconvert_exporter": "python",
   "pygments_lexer": "ipython3",
   "version": "3.9.13"
  }
 },
 "nbformat": 4,
 "nbformat_minor": 5
}
